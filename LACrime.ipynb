{
  "nbformat": 4,
  "nbformat_minor": 0,
  "metadata": {
    "colab": {
      "provenance": [],
      "authorship_tag": "ABX9TyO/8Iw9HWFhMrMhifwnbjDF",
      "include_colab_link": true
    },
    "kernelspec": {
      "name": "python3",
      "display_name": "Python 3"
    },
    "language_info": {
      "name": "python"
    }
  },
  "cells": [
    {
      "cell_type": "markdown",
      "metadata": {
        "id": "view-in-github",
        "colab_type": "text"
      },
      "source": [
        "<a href=\"https://colab.research.google.com/github/SreehariRamesh/Data-Projects/blob/main/LACrime.ipynb\" target=\"_parent\"><img src=\"https://colab.research.google.com/assets/colab-badge.svg\" alt=\"Open In Colab\"/></a>"
      ]
    },
    {
      "cell_type": "code",
      "execution_count": 2,
      "metadata": {
        "colab": {
          "base_uri": "https://localhost:8080/"
        },
        "id": "DW-IkOtkTPIq",
        "outputId": "75993d13-e7b9-4051-aa62-147f38dc53d8"
      },
      "outputs": [
        {
          "output_type": "stream",
          "name": "stdout",
          "text": [
            "       DR_NO               Date Rptd                DATE OCC  TIME OCC  AREA  \\\n",
            "0  190326475  03/01/2020 12:00:00 AM  03/01/2020 12:00:00 AM      2130     7   \n",
            "1  200106753  02/09/2020 12:00:00 AM  02/08/2020 12:00:00 AM      1800     1   \n",
            "2  200320258  11/11/2020 12:00:00 AM  11/04/2020 12:00:00 AM      1700     3   \n",
            "3  200907217  05/10/2023 12:00:00 AM  03/10/2020 12:00:00 AM      2037     9   \n",
            "4  220614831  08/18/2022 12:00:00 AM  08/17/2020 12:00:00 AM      1200     6   \n",
            "\n",
            "   AREA NAME  Rpt Dist No  Part 1-2  Crm Cd  \\\n",
            "0   Wilshire          784         1     510   \n",
            "1    Central          182         1     330   \n",
            "2  Southwest          356         1     480   \n",
            "3   Van Nuys          964         1     343   \n",
            "4  Hollywood          666         2     354   \n",
            "\n",
            "                                Crm Cd Desc  ... Status   Status Desc  \\\n",
            "0                          VEHICLE - STOLEN  ...     AA  Adult Arrest   \n",
            "1                     BURGLARY FROM VEHICLE  ...     IC   Invest Cont   \n",
            "2                             BIKE - STOLEN  ...     IC   Invest Cont   \n",
            "3  SHOPLIFTING-GRAND THEFT ($950.01 & OVER)  ...     IC   Invest Cont   \n",
            "4                         THEFT OF IDENTITY  ...     IC   Invest Cont   \n",
            "\n",
            "  Crm Cd 1 Crm Cd 2  Crm Cd 3 Crm Cd 4  \\\n",
            "0    510.0    998.0       NaN      NaN   \n",
            "1    330.0    998.0       NaN      NaN   \n",
            "2    480.0      NaN       NaN      NaN   \n",
            "3    343.0      NaN       NaN      NaN   \n",
            "4    354.0      NaN       NaN      NaN   \n",
            "\n",
            "                                   LOCATION Cross Street      LAT       LON  \n",
            "0   1900 S  LONGWOOD                     AV          NaN  34.0375 -118.3506  \n",
            "1   1000 S  FLOWER                       ST          NaN  34.0444 -118.2628  \n",
            "2   1400 W  37TH                         ST          NaN  34.0210 -118.3002  \n",
            "3  14000    RIVERSIDE                    DR          NaN  34.1576 -118.4387  \n",
            "4                         1900    TRANSIENT          NaN  34.0944 -118.3277  \n",
            "\n",
            "[5 rows x 28 columns]\n"
          ]
        }
      ],
      "source": [
        "# prompt: import a file /content/Crime_Data_from_2020_to_Present_20240921.csv\n",
        "\n",
        "import pandas as pd\n",
        "import matplotlib.pyplot as plt\n",
        "\n",
        "\n",
        "crime = pd.read_csv('/content/Crime_Data_from_2020_to_Present_20240921.csv')\n",
        "print(crime.head())\n"
      ]
    }
  ]
}